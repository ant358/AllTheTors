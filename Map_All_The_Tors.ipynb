{
  "nbformat": 4,
  "nbformat_minor": 0,
  "metadata": {
    "colab": {
      "name": "Map_All_The_Tors.ipynb",
      "provenance": [],
      "authorship_tag": "ABX9TyNilBknP4YObLviCJAdd94E",
      "include_colab_link": true
    },
    "kernelspec": {
      "name": "python3",
      "display_name": "Python 3"
    },
    "language_info": {
      "name": "python"
    }
  },
  "cells": [
    {
      "cell_type": "markdown",
      "metadata": {
        "id": "view-in-github",
        "colab_type": "text"
      },
      "source": [
        "<a href=\"https://colab.research.google.com/github/ant358/AllTheTors/blob/main/Map_All_The_Tors.ipynb\" target=\"_parent\"><img src=\"https://colab.research.google.com/assets/colab-badge.svg\" alt=\"Open In Colab\"/></a>"
      ]
    },
    {
      "cell_type": "code",
      "execution_count": null,
      "metadata": {
        "id": "aHBqplIjKslu"
      },
      "outputs": [],
      "source": [
        "import plotly.express as px\n",
        "import pandas as pd\n",
        "\n",
        "df = pd.read_csv('AllTheTors_grid_ref.csv')\n",
        "\n",
        "SIZE = 10\n",
        "df['size'] = SIZE\n",
        "\n",
        "# plot the map\n",
        "fig = px.scatter_mapbox(df, lat=\"latitude\",\n",
        "                            lon=\"longitude\",\n",
        "                            text='Number',\n",
        "                            # hover_name='Tor',\n",
        "                            # hover_data=['Grid', 'Number'],\n",
        "                            size='size',\n",
        "                            size_max=SIZE,\n",
        "                            color='Completed',\n",
        "                            zoom=10,\n",
        "                            width=600,\n",
        "                            height=950,\n",
        "                            center={\"lat\": 50.56552, \"lon\": -3.956112},\n",
        "                            title='All The Tors Challenge'\n",
        "                            \n",
        "                            )\n",
        "fig.update_layout(mapbox_style='open-street-map')\n",
        "fig.show()"
      ]
    }
  ]
}